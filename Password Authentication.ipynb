{
 "cells": [
  {
   "cell_type": "markdown",
   "id": "58bb9cea",
   "metadata": {},
   "source": [
    "Password Authenticator "
   ]
  },
  {
   "cell_type": "code",
   "execution_count": null,
   "id": "6e34abe5",
   "metadata": {},
   "outputs": [
    {
     "name": "stdout",
     "output_type": "stream",
     "text": [
      "congo u can login\n"
     ]
    }
   ],
   "source": [
    "p1 = 'crypto'\n",
    "p2 = 'is'\n",
    "p3 = 'the'\n",
    "p4 = 'future'\n",
    "p5 = 'but'\n",
    "p6 = 'ai'\n",
    "p7 = 'is'\n",
    "p8 = 'very'\n",
    "p9 = 'much'\n",
    "p10 = 'advance'\n",
    "\n",
    "password = input('tell the password')\n",
    "password2 = input('tell the password')\n",
    "password3 = input('tell the password')\n",
    "password4 = input('tell the password')\n",
    "password5 = input('tell the password')\n",
    "password6 = input('tell the password')\n",
    "password7 = input('tell the password')\n",
    "password8 = input('tell the password')\n",
    "password9 = input('tell the password')\n",
    "password10 = input('tell the password')\n",
    "\n",
    "\n",
    "\n",
    "if (password == p1 and password2 == p2 and password3 == p3 and password4 == p4 and\n",
    "    password5 == p5 and password6 == p6 and password7 == p7 and password8 == p8 and\n",
    "    password9 == p9 and password10 == p10):\n",
    "    print('congo u can login')\n",
    "else :\n",
    "    print('u failed')\n"
   ]
  }
 ],
 "metadata": {
  "kernelspec": {
   "display_name": "Python 3",
   "language": "python",
   "name": "python3"
  },
  "language_info": {
   "codemirror_mode": {
    "name": "ipython",
    "version": 3
   },
   "file_extension": ".py",
   "mimetype": "text/x-python",
   "name": "python",
   "nbconvert_exporter": "python",
   "pygments_lexer": "ipython3",
   "version": "3.12.3"
  }
 },
 "nbformat": 4,
 "nbformat_minor": 5
}
